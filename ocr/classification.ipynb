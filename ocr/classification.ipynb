{
 "cells": [
  {
   "cell_type": "code",
   "execution_count": 21,
   "metadata": {},
   "outputs": [],
   "source": [
    "from pdfminer.high_level import extract_text\n",
    "\n",
    "valePDF = extract_text('vale.pdf').lower()\n",
    "petrobrasPDF = extract_text('petrobras.pdf').lower()\n",
    "marfrigPDF = extract_text('marfrig.pdf').lower()"
   ]
  },
  {
   "cell_type": "code",
   "execution_count": 30,
   "metadata": {},
   "outputs": [
    {
     "name": "stdout",
     "output_type": "stream",
     "text": [
      "Vale: Mineração\n",
      "Petrobras: Petróleo\n",
      "Marfrig: Agro\n"
     ]
    }
   ],
   "source": [
    "from collections import Counter\n",
    "\n",
    "def classification(pdf):\n",
    "  mineracao_words = [\"rochas\", \"rocha\", \"minério\", \"ferro\"]\n",
    "  petroleo_words = [\"petróleo\", \"petroquímicos\"]\n",
    "  agro_words = [\"soja\", \"grão\", \"milho\", \"agropecuária\", \"pomar\", \"horta\", \"agrícola\"]\n",
    "\n",
    "  agroCounter = sum(Counter(word for word in pdf.split() if word in agro_words).values())\n",
    "  petroleoCounter = sum(Counter(word for word in pdf.split() if word in petroleo_words).values())\n",
    "  mineracaoCounter = sum(Counter(word for word in pdf.split() if word in mineracao_words).values())\n",
    "\n",
    "  if (agroCounter > petroleoCounter and agroCounter > mineracaoCounter):\n",
    "    return 'Agro'\n",
    "\n",
    "  if (petroleoCounter > agroCounter and petroleoCounter > mineracaoCounter):\n",
    "    return 'Petróleo'\n",
    "\n",
    "  if (mineracaoCounter > agroCounter and mineracaoCounter > petroleoCounter):\n",
    "    return 'Mineração'\n",
    "\n",
    "  return \"Sem classificação\"\n",
    "\n",
    "print('Vale: ' + classification(valePDF))\n",
    "print('Petrobras: ' + classification(petrobrasPDF))\n",
    "print('Marfrig: ' + classification(marfrigPDF))"
   ]
  }
 ],
 "metadata": {
  "interpreter": {
   "hash": "31f2aee4e71d21fbe5cf8b01ff0e069b9275f58929596ceb00d14d90e3e16cd6"
  },
  "kernelspec": {
   "display_name": "Python 3.8.9 64-bit",
   "language": "python",
   "name": "python3"
  },
  "language_info": {
   "codemirror_mode": {
    "name": "ipython",
    "version": 3
   },
   "file_extension": ".py",
   "mimetype": "text/x-python",
   "name": "python",
   "nbconvert_exporter": "python",
   "pygments_lexer": "ipython3",
   "version": "3.8.9"
  },
  "orig_nbformat": 4
 },
 "nbformat": 4,
 "nbformat_minor": 2
}
